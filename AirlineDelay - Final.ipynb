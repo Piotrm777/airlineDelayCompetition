{
 "cells": [
  {
   "cell_type": "code",
   "execution_count": 1,
   "metadata": {},
   "outputs": [],
   "source": [
    "import pandas as pd\n",
    "import numpy as np\n",
    "import time\n",
    "\n",
    "from xgboost import XGBRegressor\n",
    "\n",
    "np.random.seed(2019)"
   ]
  },
  {
   "cell_type": "markdown",
   "metadata": {},
   "source": [
    "## Data preparation"
   ]
  },
  {
   "cell_type": "code",
   "execution_count": 2,
   "metadata": {},
   "outputs": [],
   "source": [
    "train = pd.read_hdf('../input/train_airline_delay.h5')\n",
    "test = pd.read_csv('../input/test_airline_delay.csv')\n",
    "airports_timezones = pd.read_csv('../input/timezones_iata.csv')"
   ]
  },
  {
   "cell_type": "code",
   "execution_count": 3,
   "metadata": {},
   "outputs": [
    {
     "name": "stdout",
     "output_type": "stream",
     "text": [
      "CPU times: user 7min 40s, sys: 10.1 s, total: 7min 50s\n",
      "Wall time: 3min 54s\n",
      "CPU times: user 2min 24s, sys: 1.89 s, total: 2min 25s\n",
      "Wall time: 2min 18s\n"
     ]
    }
   ],
   "source": [
    "##########################################################################\n",
    "#\n",
    "# Categorize function\n",
    "#\n",
    "\n",
    "def categorize_feature(df, feat, feat_cat, indexers, del_feat=True, unknown_cat_name='unknown', unknown_cat_val=-1):\n",
    "    if feat in indexers:\n",
    "        return categorize_feature_for_test(df, feat, feat_cat, indexers[feat], del_feat=del_feat, unknown_cat_name=unknown_cat_name, unknown_cat_val=unknown_cat_val)\n",
    "    \n",
    "    categories_map = categorize_feature_for_train(df, feat, feat_cat, indexers, del_feat=del_feat, unknown_cat_name=unknown_cat_name)\n",
    "    \n",
    "def categorize_feature_for_test(df, feat, feat_cat, categories_map, del_feat=True, unknown_cat_name='unknown', unknown_cat_val=-1):\n",
    "    df[feat_cat] = [categories_map[x] if x in categories_map \n",
    "                    else categories_map[unknown_cat_name] if unknown_cat_name in categories_map \n",
    "                    else unknown_cat_val for x in df[feat]]\n",
    "    \n",
    "    if del_feat:\n",
    "        del df[feat]\n",
    "    \n",
    "def categorize_feature_for_train(df, feat, feat_cat, indexers, del_feat=True, unknown_cat_name='unknown'):\n",
    "    df.loc[df[feat].isnull(), feat] = unknown_cat_name\n",
    "\n",
    "    unique_categories = sorted(list(set(df[feat])),key=str)\n",
    "    \n",
    "    categories_map = {}\n",
    "\n",
    "    for i, (cat) in enumerate(unique_categories):\n",
    "        categories_map[cat] = i\n",
    "\n",
    "    for cat, ind in categories_map.items():\n",
    "        df.loc[df[feat] == cat, feat_cat] = ind\n",
    "\n",
    "    indexers[feat] = categories_map\n",
    "    \n",
    "    if del_feat:\n",
    "        del df[feat]\n",
    "        \n",
    "##########################################################################\n",
    "#\n",
    "# Data preparation\n",
    "#\n",
    "\n",
    "def perform_engineering(df, train_indexers=None):\n",
    "    indexers = train_indexers if train_indexers != None else {}\n",
    "    \n",
    "    df['scheduled_departure_time'] = df['scheduled_departure_time'].map(lambda x: int(x))\n",
    "    df['scheduled_arrival_time'] = df['scheduled_arrival_time'].map(lambda x: int(x))\n",
    "    df['scheduled_elapsed_time'] = df['scheduled_elapsed_time'].map(lambda x: int(x))\n",
    "    df['zone_id'] = df['zone_id'].map(lambda x: int(x))\n",
    "    \n",
    "    #\n",
    "    # categorization\n",
    "    #\n",
    "    categorize_feature(df, 'origin', 'origin_cat', indexers=indexers)\n",
    "    categorize_feature(df, 'destination', 'destination_cat', indexers=indexers)\n",
    "    \n",
    "    #\n",
    "    # pairs\n",
    "    #\n",
    "    df['airport_pair'] = df.apply(lambda x: x['origin_cat']*10000 + x['destination_cat'], axis=1)\n",
    "    df['tail_carrier_pair'] = df.apply(lambda x: x['tail_number']*1000 + x['carrier_id'], axis=1)\n",
    "    df['tail_year_pair'] = df.apply(lambda x: x['tail_number']*10 + x['year'], axis=1)\n",
    "    df['month_year_pair'] = df.apply(lambda x: x['month']*10 + x['year'], axis=1)\n",
    "    df['month_day_pair'] = df.apply(lambda x: x['month']*100 + x['day_of_month'], axis=1)\n",
    "    df['tail_destination_cat_pair'] = df.apply(lambda x: x['tail_number']*1000 + x['destination_cat'], axis=1)\n",
    "    \n",
    "    #\n",
    "    # cleanup\n",
    "    #\n",
    "    columns_to_remove = ['scheduled_duration', 'actual_departure_time', 'actual_arrival_time',\n",
    "                        'is_cancelled', 'actual_elapsed_time', 'air_time', 'departure_delay', 'arrival_delay', \n",
    "                        'cancellation_code', 'carrier_delay', 'weather_delay', 'nas_delay', 'security_delay', \n",
    "                         'late_aircraft_delay', 'is_diverted'  ]\n",
    "    for col_to_remove in columns_to_remove:\n",
    "        if col_to_remove in df: del df[col_to_remove]\n",
    "    \n",
    "    return df, indexers\n",
    "\n",
    "\n",
    "#############################################################################\n",
    "\n",
    "airports_timezones['zones_num']=airports_timezones['tz'].factorize()[0]\n",
    "\n",
    "unique_categories = sorted(list(set(train['origin'])),key=str)\n",
    "\n",
    "for airport in unique_categories:\n",
    "    train.loc[train['origin'] == airport, 'zone_id'] = airports_timezones['zones_num'][airports_timezones['code'] == airport].values[0]\n",
    "    test.loc[test['origin'] == airport, 'zone_id'] = airports_timezones['zones_num'][airports_timezones['code'] == airport].values[0]\n",
    "\n",
    "## fill NA\n",
    "train = train.fillna(-1)\n",
    "test = test.fillna(-1)\n",
    "\n",
    "## prepare data in train and test sets\n",
    "%time train, indexers = perform_engineering(train)\n",
    "%time test, dummy = perform_engineering(test, indexers)\n",
    "  "
   ]
  },
  {
   "cell_type": "code",
   "execution_count": 4,
   "metadata": {},
   "outputs": [
    {
     "name": "stdout",
     "output_type": "stream",
     "text": [
      "Selected features:  ['year', 'month', 'day_of_month', 'day_of_week', 'scheduled_departure_time', 'scheduled_arrival_time', 'carrier_id', 'flight_number', 'tail_number', 'scheduled_elapsed_time', 'distance', 'zone_id', 'airport_pair', 'tail_carrier_pair', 'tail_year_pair', 'month_year_pair', 'month_day_pair', 'origin_cat', 'destination_cat', 'tail_destination_cat_pair']\n"
     ]
    }
   ],
   "source": [
    "###########################################################################\n",
    "#\n",
    "# PREPARE FEATURES\n",
    "#\n",
    "\n",
    "black_list = ['target_delay', 'id', 'is_cancelled']\n",
    "\n",
    "bool_features = train.select_dtypes(include=[np.bool]).columns.values.tolist()\n",
    "cat_feats = [feat for feat in train.columns if 'cat' in feat]\n",
    "\n",
    "numeric_features = train.select_dtypes(include=[np.float64, np.int64, np.int16, np.int8]).columns.values\n",
    "numeric_features = [feat for feat in numeric_features if feat not in (black_list + cat_feats) ]\n",
    "\n",
    "feats = bool_features + numeric_features + cat_feats \n",
    "feats = [feat for feat in feats if feat not in (black_list)]\n",
    "\n",
    "#\n",
    "# prepare train dataset\n",
    "#\n",
    "\n",
    "X = train[ feats ].values\n",
    "y = train[ 'target_delay' ].values\n",
    "y_log = np.log1p(y)\n",
    "\n",
    "print(\"Selected features: \", feats)"
   ]
  },
  {
   "cell_type": "markdown",
   "metadata": {},
   "source": [
    "## Model"
   ]
  },
  {
   "cell_type": "code",
   "execution_count": 5,
   "metadata": {},
   "outputs": [
    {
     "name": "stdout",
     "output_type": "stream",
     "text": [
      "CPU times: user 29min 50s, sys: 6.49 s, total: 29min 56s\n",
      "Wall time: 7min 29s\n"
     ]
    },
    {
     "data": {
      "text/plain": [
       "XGBRegressor(base_score=0.5, booster='gbtree', colsample_bylevel=1,\n",
       "       colsample_bytree=1, gamma=0, importance_type='gain',\n",
       "       learning_rate=0.1, max_delta_step=0, max_depth=14,\n",
       "       min_child_weight=8, missing=None, n_estimators=120, n_jobs=4,\n",
       "       nthread=None, objective='reg:linear', random_state=2019,\n",
       "       reg_alpha=0, reg_lambda=1, scale_pos_weight=1, seed=None,\n",
       "       silent=True, subsample=1)"
      ]
     },
     "execution_count": 5,
     "metadata": {},
     "output_type": "execute_result"
    }
   ],
   "source": [
    "xgb_params = {\n",
    "    'n_jobs': 4, \n",
    "    'max_depth': 14, \n",
    "    'n_estimators': 120, \n",
    "    'learning_rate': 0.1, \n",
    "    'min_child_weight': 8, \n",
    "    'random_state': 2019\n",
    "}\n",
    "\n",
    "#\n",
    "# fit model\n",
    "#\n",
    "\n",
    "model = XGBRegressor(**xgb_params)\n",
    "%time model.fit(X, y_log)"
   ]
  },
  {
   "cell_type": "code",
   "execution_count": 6,
   "metadata": {},
   "outputs": [],
   "source": [
    "#\n",
    "# test data predictions\n",
    "#\n",
    "\n",
    "X = test[feats].values\n",
    "\n",
    "y_log_pred = model.predict(X)\n",
    "y_pred = np.expm1( y_log_pred )"
   ]
  },
  {
   "cell_type": "code",
   "execution_count": 7,
   "metadata": {},
   "outputs": [],
   "source": [
    "#\n",
    "# Additional operations\n",
    "#\n",
    "\n",
    "test['target_delay'] = y_pred\n",
    "test['target_delay'] = test['target_delay'].map(lambda x: x if x<350 else 4320)"
   ]
  },
  {
   "cell_type": "markdown",
   "metadata": {},
   "source": [
    "## Submission preparation"
   ]
  },
  {
   "cell_type": "code",
   "execution_count": 8,
   "metadata": {},
   "outputs": [],
   "source": [
    "\n",
    "test[ ['id', 'target_delay'] ].to_csv('../output/' + time.strftime(\"%Y%m%d_%H%M%S\") + '.csv', index=False) \n"
   ]
  },
  {
   "cell_type": "markdown",
   "metadata": {},
   "source": [
    "## Feature importances"
   ]
  },
  {
   "cell_type": "code",
   "execution_count": 9,
   "metadata": {},
   "outputs": [],
   "source": [
    "import matplotlib.pyplot as plt\n",
    "%matplotlib inline\n",
    "\n",
    "def draw_feature_importances(model, features):\n",
    "    importances = model.feature_importances_\n",
    "    indices = np.argsort(importances)[::-1]\n",
    "\n",
    "    plt.figure(figsize=(10, 5))\n",
    "    plt.title(\"Feature importances\")\n",
    "    plt.bar(range(X.shape[1]), model.feature_importances_[indices],\n",
    "           color=\"b\", align=\"center\")\n",
    "    plt.xticks(range(X.shape[1]), [ features[x] for x in indices])\n",
    "    plt.xticks(rotation=90)\n",
    "    plt.xlim([-1, X.shape[1]])\n",
    "    plt.show()"
   ]
  },
  {
   "cell_type": "code",
   "execution_count": 10,
   "metadata": {},
   "outputs": [
    {
     "data": {
      "image/png": "[encoded data removed]",
      "text/plain": [
       "<Figure size 720x360 with 1 Axes>"
      ]
     },
     "metadata": {
      "needs_background": "light"
     },
     "output_type": "display_data"
    }
   ],
   "source": [
    "draw_feature_importances(model, feats)"
   ]
  }
 ],
 "metadata": {
  "kernelspec": {
   "display_name": "Python 3",
   "language": "python",
   "name": "python3"
  },
  "language_info": {
   "codemirror_mode": {
    "name": "ipython",
    "version": 3
   },
   "file_extension": ".py",
   "mimetype": "text/x-python",
   "name": "python",
   "nbconvert_exporter": "python",
   "pygments_lexer": "ipython3",
   "version": "3.6.8"
  }
 },
 "nbformat": 4,
 "nbformat_minor": 2
}
